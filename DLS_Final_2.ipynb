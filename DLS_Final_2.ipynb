{
 "cells": [
  {
   "cell_type": "code",
   "execution_count": 1,
   "metadata": {},
   "outputs": [
    {
     "name": "stdout",
     "output_type": "stream",
     "text": [
      "Found 17974 images belonging to 21 classes.\n",
      "Found 4491 images belonging to 21 classes.\n",
      "Class Labels: {'Mango  Gall Midge': 0, 'Mango Anthracnose': 1, 'Mango Bacterial Canker': 2, 'Mango Cutting Weevil': 3, 'Mango Die Back': 4, 'Mango Healthy': 5, 'Mango Powdery Mildew': 6, 'Mango Sooty Mould': 7, 'Rice Bacterial leaf blight': 8, 'Rice Brown spot': 9, 'Rice Leaf smut': 10, 'Tomato___Bacterial_spot': 11, 'Tomato___Early_blight': 12, 'Tomato___Late_blight': 13, 'Tomato___Leaf_Mold': 14, 'Tomato___Septoria_leaf_spot': 15, 'Tomato___Spider_mites Two-spotted_spider_mite': 16, 'Tomato___Target_Spot': 17, 'Tomato___Tomato_Yellow_Leaf_Curl_Virus': 18, 'Tomato___Tomato_mosaic_virus': 19, 'Tomato___healthy': 20}\n",
      "Train Dataset Shape: 17974 images, 21 classes\n",
      "Validation Dataset Shape: 4491 images, 21 classes\n"
     ]
    }
   ],
   "source": [
    "from tensorflow.keras.preprocessing.image import ImageDataGenerator\n",
    "\n",
    "dataset_path = 'D:/Fall 2023/DLS/Project/Combined_dataset'\n",
    "\n",
    "datagen = ImageDataGenerator(\n",
    "    rescale=1./255, \n",
    "    validation_split=0.2)\n",
    "\n",
    "target_size = (256, 256)\n",
    "batch_size = 256\n",
    "\n",
    "train_dataset = datagen.flow_from_directory(\n",
    "    dataset_path,\n",
    "    target_size=target_size,\n",
    "    batch_size=batch_size,\n",
    "    class_mode='categorical',\n",
    "    shuffle=True,\n",
    "    subset='training'\n",
    ")\n",
    "\n",
    "validation_dataset = datagen.flow_from_directory(\n",
    "    dataset_path,\n",
    "    target_size=target_size,\n",
    "    batch_size=batch_size,\n",
    "    class_mode='categorical',\n",
    "    shuffle=False,\n",
    "    subset='validation'\n",
    ")\n",
    "\n",
    "class_labels = train_dataset.class_indices\n",
    "print(\"Class Labels:\", class_labels)\n",
    "print(\"Train Dataset Shape:\", train_dataset.samples, \"images,\", len(class_labels), \"classes\")\n",
    "print(\"Validation Dataset Shape:\", validation_dataset.samples, \"images,\", len(class_labels), \"classes\")"
   ]
  },
  {
   "cell_type": "code",
   "execution_count": 2,
   "metadata": {},
   "outputs": [],
   "source": [
    "from tensorflow.keras.models import Sequential\n",
    "from tensorflow.keras.layers import Conv2D, MaxPooling2D, Flatten, Dense\n",
    "\n",
    "num_classes = 21\n",
    "\n",
    "model = Sequential([\n",
    "    Conv2D(16, 3, padding='same', activation='relu', input_shape=(256, 256, 3)),\n",
    "    MaxPooling2D(),\n",
    "    Conv2D(32, 3, padding='same', activation='relu'),\n",
    "    MaxPooling2D(),\n",
    "    Conv2D(64, 3, padding='same', activation='relu'),\n",
    "    MaxPooling2D(),\n",
    "    Flatten(),\n",
    "    Dense(128, activation='relu'),\n",
    "    Dense(num_classes, activation='softmax')  \n",
    "])\n",
    "\n",
    "# Compile the model\n",
    "model.compile(optimizer='adam',\n",
    "              loss='categorical_crossentropy',\n",
    "              metrics=['accuracy'])\n"
   ]
  },
  {
   "cell_type": "code",
   "execution_count": 3,
   "metadata": {},
   "outputs": [],
   "source": [
    "from sklearn.utils.class_weight import compute_sample_weight\n",
    "import numpy as np\n",
    "\n",
    "y_true_new = np.array(train_dataset.classes)\n",
    "\n",
    "sample_weights_new = compute_sample_weight('balanced', y_true_new)\n",
    "\n",
    "class_weight_dict_new = dict(enumerate(sample_weights_new))"
   ]
  },
  {
   "cell_type": "code",
   "execution_count": 4,
   "metadata": {},
   "outputs": [
    {
     "name": "stdout",
     "output_type": "stream",
     "text": [
      "Epoch 1/10\n",
      "70/70 [==============================] - 658s 9s/step - loss: 3.8023 - accuracy: 0.4535 - val_loss: 1.1045 - val_accuracy: 0.6374\n",
      "Epoch 2/10\n",
      "70/70 [==============================] - 571s 8s/step - loss: 1.6122 - accuracy: 0.7510 - val_loss: 0.7179 - val_accuracy: 0.7622\n",
      "Epoch 3/10\n",
      "70/70 [==============================] - 588s 8s/step - loss: 1.0234 - accuracy: 0.8437 - val_loss: 0.6515 - val_accuracy: 0.7787\n",
      "Epoch 4/10\n",
      "70/70 [==============================] - 520s 7s/step - loss: 0.7232 - accuracy: 0.8884 - val_loss: 0.4925 - val_accuracy: 0.8396\n",
      "Epoch 5/10\n",
      "70/70 [==============================] - 1943s 28s/step - loss: 0.5131 - accuracy: 0.9204 - val_loss: 0.4050 - val_accuracy: 0.8720\n",
      "Epoch 6/10\n",
      "70/70 [==============================] - 410s 6s/step - loss: 0.3977 - accuracy: 0.9396 - val_loss: 0.4589 - val_accuracy: 0.8642\n",
      "Epoch 7/10\n",
      "70/70 [==============================] - 412s 6s/step - loss: 0.3249 - accuracy: 0.9509 - val_loss: 0.4432 - val_accuracy: 0.8637\n",
      "Epoch 8/10\n",
      "70/70 [==============================] - 950s 14s/step - loss: 0.2744 - accuracy: 0.9564 - val_loss: 0.4753 - val_accuracy: 0.8575\n",
      "Epoch 9/10\n",
      "70/70 [==============================] - 412s 6s/step - loss: 0.1927 - accuracy: 0.9717 - val_loss: 0.5701 - val_accuracy: 0.8440\n",
      "Epoch 10/10\n",
      "70/70 [==============================] - 401s 6s/step - loss: 0.1760 - accuracy: 0.9734 - val_loss: 0.3925 - val_accuracy: 0.8904\n"
     ]
    }
   ],
   "source": [
    "train_steps_per_epoch = train_dataset.samples // batch_size\n",
    "validation_steps_per_epoch = validation_dataset.samples // batch_size\n",
    "\n",
    "\n",
    "history = model.fit(\n",
    "    train_dataset,\n",
    "    steps_per_epoch=train_steps_per_epoch,\n",
    "    epochs=10,\n",
    "    class_weight=class_weight_dict_new,\n",
    "    validation_data=validation_dataset,\n",
    "    validation_steps=validation_steps_per_epoch\n",
    ")\n"
   ]
  },
  {
   "cell_type": "code",
   "execution_count": 5,
   "metadata": {},
   "outputs": [],
   "source": [
    "from PIL import Image\n",
    "from tensorflow.keras.preprocessing import image\n",
    "import numpy as np\n",
    "img_path = 'D:/Fall 2023/DLS/Project/Combined_dataset/Tomato___Late_blight/0ab1cab4-a0c9-4323-9a64-cdafa4342a9b___GHLB2 Leaf 8918.JPG'\n",
    "#\"D:\\Fall 2023\\DLS\\Project\\Combined_dataset\\Tomato___Late_blight\\0ab1cab4-a0c9-4323-9a64-cdafa4342a9b___GHLB2 Leaf 8918.JPG\"\n",
    "img = image.load_img(img_path, target_size=(256, 256))\n",
    "img_array = image.img_to_array(img)\n",
    "img_array = np.expand_dims(img_array, axis=0)\n",
    "img_array /= 255.0"
   ]
  },
  {
   "cell_type": "code",
   "execution_count": 6,
   "metadata": {},
   "outputs": [
    {
     "name": "stdout",
     "output_type": "stream",
     "text": [
      "1/1 [==============================] - 0s 265ms/step\n",
      "Predicted Disease: Tomato___Late_blight\n"
     ]
    }
   ],
   "source": [
    "predictions = model.predict(img_array)\n",
    "\n",
    "predicted_class = np.argmax(predictions)\n",
    "\n",
    "class_labels = ['Mango  Gall Midge', 'Mango Anthracnose', 'Mango Bacterial Canker', 'Mango Cutting Weevil', 'Mango Die Back', 'Mango Healthy',\n",
    "                'Mango Powdery Mildew', 'Mango Sooty Mould', 'Rice Bacterial leaf blight', 'Rice Brown spot', 'Rice Leaf smut', 'Tomato___Bacterial_spot',\n",
    "                'Tomato___Early_blight', 'Tomato___Late_blight', 'Tomato___Leaf_Mold', 'Tomato___Septoria_leaf_spot', 'Tomato___Spider_mites Two-spotted_spider_mite', \n",
    "                'Tomato___Target_Spot', 'Tomato___Tomato_Yellow_Leaf_Curl_Virus', 'Tomato___Tomato_mosaic_virus', 'Tomato___healthy']\n",
    "\n",
    "predicted_disease = class_labels[predicted_class]\n",
    "print(f\"Predicted Disease: {predicted_disease}\")"
   ]
  },
  {
   "cell_type": "code",
   "execution_count": 8,
   "metadata": {},
   "outputs": [
    {
     "data": {
      "image/png": "[encoded data removed]",
      "text/plain": [
       "<Figure size 640x480 with 1 Axes>"
      ]
     },
     "metadata": {},
     "output_type": "display_data"
    }
   ],
   "source": [
    "import matplotlib.pyplot as plt\n",
    "plt.plot(history.history['val_accuracy'], label='Validation Accuracy')\n",
    "plt.title('Testing Accuracy')\n",
    "plt.xlabel('Epoch')\n",
    "plt.ylabel('Accuracy')\n",
    "plt.legend()\n",
    "plt.show()"
   ]
  },
  {
   "cell_type": "code",
   "execution_count": null,
   "metadata": {},
   "outputs": [],
   "source": []
  }
 ],
 "metadata": {
  "kernelspec": {
   "display_name": "Python 3",
   "language": "python",
   "name": "python3"
  },
  "language_info": {
   "codemirror_mode": {
    "name": "ipython",
    "version": 3
   },
   "file_extension": ".py",
   "mimetype": "text/x-python",
   "name": "python",
   "nbconvert_exporter": "python",
   "pygments_lexer": "ipython3",
   "version": "3.11.1"
  }
 },
 "nbformat": 4,
 "nbformat_minor": 2
}
