{
 "cells": [
  {
   "cell_type": "markdown",
   "id": "78edfe1a",
   "metadata": {},
   "source": [
    "# RESNET50 model for Plant Classification and Disease Detection​\n",
    "\n",
    "​"
   ]
  },
  {
   "cell_type": "markdown",
   "id": "db33b468",
   "metadata": {},
   "source": [
    "First, we trained the tomato REsNet50 model with resnetweights but insted of freeezing we unfreezed 4 layers, so that weights of the ResNet50 model gets mixed or updated with some features of the tomato features. Now we saved this model which has updated weights, And we used this model for the training mango dataset. By this way i'm just creating a weights, which is the combination of original ResNet50 features and tomato,mango,rice leaves. And then finally training A similar model architecture with the weights gained after training \"Rice Dataset\" on a combined dataset of rice, mango, tomato. We went throught all this trouble for finding a good balanced number of layer to unfreez for each dataset. So the we can avoide Bias. Because the dataset is not in equal proportions its like rice:mango:Tomato=10:35:55. \n",
    "\n",
    "Initially we tried with unfreezing same no of few layes for each model, the prediction was always tomato or mango its not recognising the rice. So we tried to unfreeze no of layers for rice only it didnt worlk out well, so we played with th no of layers and data too. Finally we increased the no of layers to unfreez exponentially with the model.\n",
    "\n",
    "We also tried to use a custom ResNet9 model, but it was a bit too much because its taking for ever to run 1 epoch like 7 to 8 hours we thought maybe we are at faulty with the architectuire.we used a Initial Convolutional Block (conv1) which Applies initial convolution to input images,Second Convolutional Block (conv2) which Further processes features includes pooling if pool=True, First Residual Block (res1), where Two convolutional layers with a shortcut connection adding input to output, Third Convolutional Block (conv3) this Continues with feature processing and reduction and pools if pool=True, Fourth Convolutional Block (conv4) further refines features and includes pooling if pool=True, Second Residual Block (res2) which is similar to res1 with shortcut connection, And the Classifier Block: where\n",
    "MaxPooling layer: Reducing feature map dimensions.\n",
    "Flatten layer:  2D to 1D vector.\n",
    "Dense layer: Outputs classification results based on number of diseases (num_diseases). \n",
    "\n",
    "\n",
    "So, we continued with ResNet50."
   ]
  },
  {
   "cell_type": "code",
   "execution_count": null,
   "id": "171dc821",
   "metadata": {},
   "outputs": [],
   "source": []
  },
  {
   "cell_type": "markdown",
   "id": "8ac46f44",
   "metadata": {},
   "source": [
    "Tomato ResNe50t Beginning"
   ]
  },
  {
   "cell_type": "code",
   "execution_count": 32,
   "id": "7672efab",
   "metadata": {},
   "outputs": [],
   "source": [
    "import os\n",
    "import numpy as np\n",
    "import tensorflow as tf\n",
    "from tensorflow.keras.applications.resnet50 import ResNet50\n",
    "from tensorflow.keras.layers import Dense, GlobalAveragePooling2D, Flatten\n",
    "from tensorflow.keras.models import Model\n",
    "from tensorflow.keras.optimizers import Adam\n",
    "from tensorflow.keras.preprocessing.image import ImageDataGenerator\n"
   ]
  },
  {
   "cell_type": "code",
   "execution_count": 36,
   "id": "e01f38c4",
   "metadata": {},
   "outputs": [
    {
     "name": "stdout",
     "output_type": "stream",
     "text": [
      "Found 18345 images belonging to 10 classes.\n",
      "Found 4585 images belonging to 10 classes.\n"
     ]
    }
   ],
   "source": [
    "\n",
    "train_path = '/Users/hanmarruiu.edu/Desktop/dls project /tomato/New Plant Diseases Dataset(Augmented)/New Plant Diseases Dataset(Augmented)/train'\n",
    "test_path = '/Users/hanmarruiu.edu/Desktop/dls project /tomato/New Plant Diseases Dataset(Augmented)/New Plant Diseases Dataset(Augmented)/valid'\n",
    "\n",
    "#class labels\n",
    "class_labels = ['Tomato___Bacterial_spot', 'Tomato___Early_blight', 'Tomato___Late_blight', 'Tomato___Leaf_Mold',\n",
    "                'Tomato___Septoria_leaf_spot', 'Tomato___Spider_mites Two-spotted_spider_mite', 'Tomato___Target_Spot',\n",
    "                'Tomato___Tomato_Yellow_Leaf_Curl_Virus', 'Tomato___Tomato_mosaic_virus', 'Tomato___healthy']\n",
    "\n",
    "# ImageDataGenerators\n",
    "train_datagen = ImageDataGenerator(rescale=1./255,\n",
    "                                   rotation_range=20,\n",
    "                                   width_shift_range=0.2,\n",
    "                                   height_shift_range=0.2,\n",
    "                                   shear_range=0.2,\n",
    "                                   zoom_range=0.2,\n",
    "                                   horizontal_flip=True,\n",
    "                                   fill_mode='nearest')\n",
    "\n",
    "test_datagen = ImageDataGenerator(rescale=1./255)\n",
    "\n",
    "#images in batches of 32 using train_datagen generator\n",
    "train_generator = train_datagen.flow_from_directory(\n",
    "        train_path,  \n",
    "        target_size=(224, 224),  \n",
    "        batch_size=32,\n",
    "        class_mode='categorical')  \n",
    "\n",
    "#images in batches of 32 using test_datagen generator\n",
    "validation_generator = test_datagen.flow_from_directory(\n",
    "        test_path,\n",
    "        target_size=(224, 224),\n",
    "        batch_size=32,\n",
    "        class_mode='categorical')\n",
    "\n"
   ]
  },
  {
   "cell_type": "code",
   "execution_count": 38,
   "id": "4cad58f7",
   "metadata": {},
   "outputs": [
    {
     "name": "stderr",
     "output_type": "stream",
     "text": [
      "WARNING:absl:At this time, the v2.11+ optimizer `tf.keras.optimizers.Adam` runs slowly on M1/M2 Macs, please use the legacy Keras optimizer instead, located at `tf.keras.optimizers.legacy.Adam`.\n",
      "WARNING:absl:`lr` is deprecated in Keras optimizer, please use `learning_rate` or use the legacy optimizer, e.g.,tf.keras.optimizers.legacy.Adam.\n",
      "WARNING:absl:There is a known slowdown when using v2.11+ Keras optimizers on M1/M2 Macs. Falling back to the legacy Keras optimizer, i.e., `tf.keras.optimizers.legacy.Adam`.\n"
     ]
    }
   ],
   "source": [
    "# ResNet50 model with ImageNet weights\n",
    "base_model = ResNet50(weights='imagenet', include_top=False, input_shape=(224, 224, 3))\n",
    "\n",
    "# Unfreezing some of the top layers of the model\n",
    "for layer in base_model.layers[-4:]:\n",
    "    layer.trainable = True\n",
    "\n",
    "#custom layers\n",
    "x = base_model.output\n",
    "x = GlobalAveragePooling2D()(x)\n",
    "x = Flatten()(x)\n",
    "x = Dense(1024, activation='relu')(x)\n",
    "predictions = Dense(10, activation='softmax')(x)  # 10 classes for the combined dataset\n",
    "\n",
    "#model\n",
    "model = Model(inputs=base_model.input, outputs=predictions)\n",
    "\n",
    "# Compiling\n",
    "model.compile(optimizer=Adam(lr=0.0001),\n",
    "              loss='categorical_crossentropy',\n",
    "              metrics=['accuracy'])\n"
   ]
  },
  {
   "cell_type": "code",
   "execution_count": 39,
   "id": "68fc8987",
   "metadata": {},
   "outputs": [
    {
     "name": "stdout",
     "output_type": "stream",
     "text": [
      "Epoch 1/5\n",
      "573/573 [==============================] - 2888s 5s/step - loss: 0.4856 - accuracy: 0.8422 - val_loss: 3.6975 - val_accuracy: 0.1012\n",
      "Epoch 2/5\n",
      "573/573 [==============================] - 2889s 5s/step - loss: 0.1952 - accuracy: 0.9369 - val_loss: 2.4959 - val_accuracy: 0.5900\n",
      "Epoch 3/5\n",
      "573/573 [==============================] - 2792s 5s/step - loss: 0.1455 - accuracy: 0.9505 - val_loss: 2.1934 - val_accuracy: 0.6018\n",
      "Epoch 4/5\n",
      "573/573 [==============================] - 2775s 5s/step - loss: 0.1235 - accuracy: 0.9598 - val_loss: 0.7370 - val_accuracy: 0.8687\n",
      "Epoch 5/5\n",
      "573/573 [==============================] - 2829s 5s/step - loss: 0.1007 - accuracy: 0.9652 - val_loss: 1.4724 - val_accuracy: 0.7681\n"
     ]
    }
   ],
   "source": [
    "# Training the model\n",
    "history = model.fit(\n",
    "      train_generator,\n",
    "      steps_per_epoch=train_generator.samples // 32,  \n",
    "      epochs=5,\n",
    "      validation_data=validation_generator,\n",
    "      validation_steps=validation_generator.samples // 32,\n",
    "      verbose=1)\n",
    "\n"
   ]
  },
  {
   "cell_type": "code",
   "execution_count": 40,
   "id": "3eb860e8",
   "metadata": {},
   "outputs": [
    {
     "name": "stdout",
     "output_type": "stream",
     "text": [
      "144/144 [==============================] - 151s 1s/step - loss: 1.4706 - accuracy: 0.7682\n",
      "Test Loss: 1.4706, Test Accuracy: 76.82%\n"
     ]
    }
   ],
   "source": [
    "\n",
    "# Evaluating the model on the test data\n",
    "test_loss, test_accuracy = model.evaluate(validation_generator)\n",
    "print(f'Test Loss: {test_loss:.4f}, Test Accuracy: {test_accuracy:.2%}')\n"
   ]
  },
  {
   "cell_type": "code",
   "execution_count": 41,
   "id": "df2d77ff",
   "metadata": {},
   "outputs": [
    {
     "name": "stdout",
     "output_type": "stream",
     "text": [
      "Model saved to /Users/hanmarruiu.edu/Desktop/dls project/tomato_resnet_model.h5\n"
     ]
    }
   ],
   "source": [
    "\n",
    "save_dir = '/Users/hanmarruiu.edu/Desktop/dls project'\n",
    "\n",
    "model_file_name = 'tomato_resnet_model.h5'\n",
    "\n",
    "if not os.path.exists(save_dir):\n",
    "    os.makedirs(save_dir)\n",
    "model.save(os.path.join(save_dir, model_file_name))\n",
    "\n",
    "print(f\"Model saved to {os.path.join(save_dir, model_file_name)}\")\n"
   ]
  },
  {
   "cell_type": "markdown",
   "id": "9f58695c",
   "metadata": {},
   "source": [
    "loading the above model to the next model."
   ]
  },
  {
   "cell_type": "markdown",
   "id": "a477b4da",
   "metadata": {},
   "source": [
    "Mango ResNet50 Model"
   ]
  },
  {
   "cell_type": "code",
   "execution_count": 42,
   "id": "4f205d4a",
   "metadata": {},
   "outputs": [
    {
     "name": "stderr",
     "output_type": "stream",
     "text": [
      "WARNING:absl:At this time, the v2.11+ optimizer `tf.keras.optimizers.Adam` runs slowly on M1/M2 Macs, please use the legacy Keras optimizer instead, located at `tf.keras.optimizers.legacy.Adam`.\n",
      "WARNING:absl:`lr` is deprecated in Keras optimizer, please use `learning_rate` or use the legacy optimizer, e.g.,tf.keras.optimizers.legacy.Adam.\n",
      "WARNING:absl:There is a known slowdown when using v2.11+ Keras optimizers on M1/M2 Macs. Falling back to the legacy Keras optimizer, i.e., `tf.keras.optimizers.legacy.Adam`.\n"
     ]
    }
   ],
   "source": [
    "import os\n",
    "import numpy as np\n",
    "import tensorflow as tf\n",
    "from tensorflow.keras.applications.resnet50 import ResNet50\n",
    "from tensorflow.keras.layers import Dense, GlobalAveragePooling2D\n",
    "from tensorflow.keras.models import Model, load_model\n",
    "from tensorflow.keras.optimizers import Adam\n",
    "from sklearn.model_selection import train_test_split\n",
    "from tensorflow.keras.preprocessing.image import ImageDataGenerator\n",
    "from PIL import Image\n",
    "\n",
    "# Loading the previously saved tomato model\n",
    "tomato_model_path = '/Users/hanmarruiu.edu/Desktop/dls project/tomato_resnet_model.h5'\n",
    "# Loading the previously saved tomato model\n",
    "model = load_model(tomato_model_path)\n",
    "\n",
    "# Unfreezing some of the top layers of the model\n",
    "for layer in model.layers[-17:]:  # Unfreezing the last 30 layers\n",
    "    layer.trainable = True\n",
    "\n",
    "# Getting the output of the last convolutional layer\n",
    "x = model.get_layer('conv5_block3_out').output\n",
    "\n",
    "#new trainable layers\n",
    "x = GlobalAveragePooling2D()(x)\n",
    "x = Dense(128, activation='relu')(x)\n",
    "predictions = Dense(8, activation='softmax')(x)  # 8 classes for mango dataset\n",
    "\n",
    "# new model with modified layers\n",
    "modified_model = Model(inputs=model.input, outputs=predictions)\n",
    "\n",
    "# Compiling the new model\n",
    "modified_model.compile(optimizer=Adam(lr=0.00001), loss='sparse_categorical_crossentropy', metrics=['accuracy'])\n"
   ]
  },
  {
   "cell_type": "code",
   "execution_count": 43,
   "id": "3b6c3f93",
   "metadata": {},
   "outputs": [
    {
     "name": "stdout",
     "output_type": "stream",
     "text": [
      "(3000, 224, 224, 3) (1000, 224, 224, 3)\n"
     ]
    }
   ],
   "source": [
    "\n",
    "data_dirt = '/Users/hanmarruiu.edu/Desktop/dls project /archive (1)'#mango dataset\n",
    "\n",
    "labels_dict = {\"Anthracnose\": 0,\n",
    "               \"Bacterial Canker\": 1,\n",
    "               \"Cutting Weevil\": 2,\n",
    "               \"Die Back\": 3, \n",
    "               \"Gall Midge\": 4,\n",
    "               \"Healthy\": 5,\n",
    "               \"Powdery Mildew\": 6,\n",
    "               \"Sooty Mould\": 7}\n",
    "\n",
    "images, labels = [], []\n",
    "\n",
    "# Looping through subdirectories and images\n",
    "for class_name in labels_dict.keys():\n",
    "    class_dir = os.path.join(data_dirt, class_name)\n",
    "    for image_name in os.listdir(class_dir):\n",
    "        image_path = os.path.join(class_dir, image_name)\n",
    "        image = Image.open(image_path) \n",
    "        image = image.resize((224, 224))  \n",
    "        img_array = np.array(image)  \n",
    "        images.append(img_array)\n",
    "        labels.append(labels_dict[class_name])\n",
    "\n",
    "#lists to NumPy arrays\n",
    "images = np.array(images)\n",
    "labels = np.array(labels)\n",
    "\n",
    "# Splitting the data into training and testing sets\n",
    "train_images_1, test_images_1, train_labels_1, test_labels_1 = train_test_split(images, labels, random_state=0)\n",
    "\n",
    "# Data Augmentations\n",
    "augment_datagen = ImageDataGenerator(\n",
    "    rescale=1./255,\n",
    "    rotation_range=20, \n",
    "    width_shift_range=0.2, \n",
    "    height_shift_range=0.2, \n",
    "    shear_range=0.2, \n",
    "    zoom_range=0.2, \n",
    "    horizontal_flip=True, \n",
    "    fill_mode='nearest'\n",
    ")\n",
    "\n",
    "# data augmentation to the training images\n",
    "train_images_augmented = augment_datagen.flow(train_images_1, train_labels_1, batch_size=32)\n",
    "\n",
    "\n",
    "# Normalizing the pixel values to [0, 1]\n",
    "train_images_1 = train_images_1 / 255.0\n",
    "test_images_1 = test_images_1 / 255.0\n",
    "\n",
    "print(train_images_1.shape, test_images_1.shape)\n"
   ]
  },
  {
   "cell_type": "code",
   "execution_count": 44,
   "id": "90838dae",
   "metadata": {},
   "outputs": [
    {
     "name": "stdout",
     "output_type": "stream",
     "text": [
      "Epoch 1/5\n",
      "94/94 [==============================] - 499s 5s/step - loss: 0.3071 - accuracy: 0.9113 - val_loss: 40.6736 - val_accuracy: 0.2300\n",
      "Epoch 2/5\n",
      "94/94 [==============================] - 486s 5s/step - loss: 0.1092 - accuracy: 0.9677 - val_loss: 0.6097 - val_accuracy: 0.9040\n",
      "Epoch 3/5\n",
      "94/94 [==============================] - 485s 5s/step - loss: 0.0629 - accuracy: 0.9783 - val_loss: 0.9545 - val_accuracy: 0.7320\n",
      "Epoch 4/5\n",
      "94/94 [==============================] - 488s 5s/step - loss: 0.0488 - accuracy: 0.9890 - val_loss: 338.8796 - val_accuracy: 0.1300\n",
      "Epoch 5/5\n",
      "94/94 [==============================] - 478s 5s/step - loss: 0.1297 - accuracy: 0.9620 - val_loss: 6.2840 - val_accuracy: 0.3840\n"
     ]
    }
   ],
   "source": [
    "\n",
    "# Training with augmented data\n",
    "history = modified_model.fit(\n",
    "    train_images_augmented,\n",
    "    epochs=5,\n",
    "    validation_data=(test_images_1, test_labels_1)\n",
    ")\n",
    "\n",
    "\n"
   ]
  },
  {
   "cell_type": "code",
   "execution_count": 45,
   "id": "760b4079",
   "metadata": {},
   "outputs": [
    {
     "name": "stdout",
     "output_type": "stream",
     "text": [
      "32/32 [==============================] - 33s 1s/step - loss: 6.2840 - accuracy: 0.3840\n",
      "Test accuracy: 0.3840000033378601\n"
     ]
    }
   ],
   "source": [
    "# Evaluating on the test data\n",
    "test_loss, test_accuracy = modified_model.evaluate(test_images_1, test_labels_1)\n",
    "print(\"Test accuracy:\", test_accuracy)\n"
   ]
  },
  {
   "cell_type": "code",
   "execution_count": 46,
   "id": "21441a14",
   "metadata": {},
   "outputs": [
    {
     "name": "stderr",
     "output_type": "stream",
     "text": [
      "/Users/hanmarruiu.edu/anaconda3/lib/python3.11/site-packages/keras/src/engine/training.py:3000: UserWarning: You are saving your model as an HDF5 file via `model.save()`. This file format is considered legacy. We recommend using instead the native Keras format, e.g. `model.save('my_model.keras')`.\n",
      "  saving_api.save_model(\n"
     ]
    },
    {
     "name": "stdout",
     "output_type": "stream",
     "text": [
      "Model saved to /Users/hanmarruiu.edu/Desktop/dls project/combined_resnet_model_mango_tomato.h5\n"
     ]
    }
   ],
   "source": [
    "\n",
    "save_dir = '/Users/hanmarruiu.edu/Desktop/dls project'\n",
    "\n",
    "model_file_name = 'combined_resnet_model_mango_tomato.h5'\n",
    "\n",
    "if not os.path.exists(save_dir):\n",
    "    os.makedirs(save_dir)\n",
    "model_save_path = os.path.join(save_dir, model_file_name)\n",
    "modified_model.save(model_save_path)\n",
    "\n",
    "print(f\"Model saved to {model_save_path}\")\n"
   ]
  },
  {
   "cell_type": "code",
   "execution_count": null,
   "id": "068270e7",
   "metadata": {},
   "outputs": [],
   "source": []
  },
  {
   "cell_type": "markdown",
   "id": "ac1537cc",
   "metadata": {},
   "source": [
    "loading the above model to the next model."
   ]
  },
  {
   "cell_type": "markdown",
   "id": "052d2b22",
   "metadata": {},
   "source": [
    "rice ResNet50 model"
   ]
  },
  {
   "cell_type": "code",
   "execution_count": 47,
   "id": "3eab77a0",
   "metadata": {},
   "outputs": [
    {
     "name": "stderr",
     "output_type": "stream",
     "text": [
      "WARNING:absl:At this time, the v2.11+ optimizer `tf.keras.optimizers.Adam` runs slowly on M1/M2 Macs, please use the legacy Keras optimizer instead, located at `tf.keras.optimizers.legacy.Adam`.\n",
      "WARNING:absl:`lr` is deprecated in Keras optimizer, please use `learning_rate` or use the legacy optimizer, e.g.,tf.keras.optimizers.legacy.Adam.\n",
      "WARNING:absl:There is a known slowdown when using v2.11+ Keras optimizers on M1/M2 Macs. Falling back to the legacy Keras optimizer, i.e., `tf.keras.optimizers.legacy.Adam`.\n"
     ]
    },
    {
     "name": "stdout",
     "output_type": "stream",
     "text": [
      "Epoch 1/30\n",
      "3/3 [==============================] - 17s 6s/step - loss: 1.0154 - accuracy: 0.5222 - val_loss: 0.9686 - val_accuracy: 0.4667\n",
      "Epoch 2/30\n",
      "3/3 [==============================] - 15s 5s/step - loss: 0.4118 - accuracy: 0.8889 - val_loss: 1.5797 - val_accuracy: 0.4333\n",
      "Epoch 3/30\n",
      "3/3 [==============================] - 15s 5s/step - loss: 0.2451 - accuracy: 0.9111 - val_loss: 1.8731 - val_accuracy: 0.4667\n",
      "Epoch 4/30\n",
      "3/3 [==============================] - 14s 5s/step - loss: 0.1240 - accuracy: 0.9556 - val_loss: 2.0920 - val_accuracy: 0.3667\n",
      "Epoch 5/30\n",
      "3/3 [==============================] - 14s 5s/step - loss: 0.0885 - accuracy: 0.9556 - val_loss: 2.2785 - val_accuracy: 0.4333\n",
      "Epoch 6/30\n",
      "3/3 [==============================] - 14s 5s/step - loss: 0.0525 - accuracy: 0.9889 - val_loss: 2.3263 - val_accuracy: 0.4667\n",
      "Epoch 7/30\n",
      "3/3 [==============================] - 14s 5s/step - loss: 0.0324 - accuracy: 0.9889 - val_loss: 2.2307 - val_accuracy: 0.5667\n",
      "Epoch 8/30\n",
      "3/3 [==============================] - 14s 5s/step - loss: 0.0442 - accuracy: 0.9778 - val_loss: 2.1133 - val_accuracy: 0.6333\n",
      "Epoch 9/30\n",
      "3/3 [==============================] - 14s 5s/step - loss: 0.0320 - accuracy: 0.9889 - val_loss: 2.6493 - val_accuracy: 0.7333\n",
      "Epoch 10/30\n",
      "3/3 [==============================] - 14s 5s/step - loss: 0.0274 - accuracy: 0.9778 - val_loss: 3.2341 - val_accuracy: 0.7000\n",
      "Epoch 11/30\n",
      "3/3 [==============================] - 15s 5s/step - loss: 0.2208 - accuracy: 0.9778 - val_loss: 3.4206 - val_accuracy: 0.6333\n",
      "Epoch 12/30\n",
      "3/3 [==============================] - 14s 5s/step - loss: 0.1312 - accuracy: 0.9889 - val_loss: 3.7735 - val_accuracy: 0.8000\n",
      "Epoch 13/30\n",
      "3/3 [==============================] - 14s 4s/step - loss: 0.0589 - accuracy: 0.9778 - val_loss: 3.8738 - val_accuracy: 0.8000\n",
      "Epoch 14/30\n",
      "3/3 [==============================] - 14s 5s/step - loss: 0.1747 - accuracy: 0.9333 - val_loss: 7.1506 - val_accuracy: 0.5000\n",
      "Epoch 15/30\n",
      "3/3 [==============================] - 14s 5s/step - loss: 0.0823 - accuracy: 0.9556 - val_loss: 8.2310 - val_accuracy: 0.4333\n",
      "Epoch 16/30\n",
      "3/3 [==============================] - 15s 5s/step - loss: 0.0682 - accuracy: 0.9778 - val_loss: 7.2542 - val_accuracy: 0.4333\n",
      "Epoch 17/30\n",
      "3/3 [==============================] - 15s 5s/step - loss: 0.0408 - accuracy: 0.9889 - val_loss: 7.0179 - val_accuracy: 0.4333\n",
      "Epoch 18/30\n",
      "3/3 [==============================] - 14s 5s/step - loss: 0.0352 - accuracy: 0.9778 - val_loss: 7.5292 - val_accuracy: 0.4000\n",
      "Epoch 19/30\n",
      "3/3 [==============================] - 15s 5s/step - loss: 0.0260 - accuracy: 0.9889 - val_loss: 7.7773 - val_accuracy: 0.4000\n",
      "Epoch 20/30\n",
      "3/3 [==============================] - 15s 5s/step - loss: 0.0175 - accuracy: 1.0000 - val_loss: 8.1341 - val_accuracy: 0.4333\n",
      "Epoch 21/30\n",
      "3/3 [==============================] - 14s 5s/step - loss: 0.1152 - accuracy: 0.9667 - val_loss: 8.5587 - val_accuracy: 0.4333\n",
      "Epoch 22/30\n",
      "3/3 [==============================] - 14s 5s/step - loss: 0.0482 - accuracy: 0.9667 - val_loss: 8.3836 - val_accuracy: 0.4333\n",
      "Epoch 23/30\n",
      "3/3 [==============================] - 15s 5s/step - loss: 0.1413 - accuracy: 0.9556 - val_loss: 8.5852 - val_accuracy: 0.4333\n",
      "Epoch 24/30\n",
      "3/3 [==============================] - 14s 5s/step - loss: 0.0412 - accuracy: 0.9889 - val_loss: 8.2707 - val_accuracy: 0.4667\n",
      "Epoch 25/30\n",
      "3/3 [==============================] - 14s 5s/step - loss: 0.0321 - accuracy: 0.9889 - val_loss: 7.4819 - val_accuracy: 0.5000\n",
      "Epoch 26/30\n",
      "3/3 [==============================] - 14s 5s/step - loss: 0.0669 - accuracy: 0.9667 - val_loss: 5.7057 - val_accuracy: 0.6000\n",
      "Epoch 27/30\n",
      "3/3 [==============================] - 14s 5s/step - loss: 0.0236 - accuracy: 0.9889 - val_loss: 4.6452 - val_accuracy: 0.6000\n",
      "Epoch 28/30\n",
      "3/3 [==============================] - 14s 5s/step - loss: 0.0477 - accuracy: 0.9667 - val_loss: 4.7333 - val_accuracy: 0.5667\n",
      "Epoch 29/30\n",
      "3/3 [==============================] - 14s 5s/step - loss: 0.0190 - accuracy: 1.0000 - val_loss: 6.1339 - val_accuracy: 0.4667\n",
      "Epoch 30/30\n",
      "3/3 [==============================] - 14s 5s/step - loss: 0.0081 - accuracy: 1.0000 - val_loss: 6.9377 - val_accuracy: 0.4667\n"
     ]
    }
   ],
   "source": [
    "import os\n",
    "import numpy as np\n",
    "import tensorflow as tf\n",
    "from tensorflow.keras.models import load_model\n",
    "from tensorflow.keras.optimizers import Adam\n",
    "from tensorflow.keras.layers import Dense, GlobalAveragePooling2D\n",
    "from tensorflow.keras.preprocessing.image import ImageDataGenerator\n",
    "from sklearn.model_selection import train_test_split\n",
    "from PIL import Image\n",
    "\n",
    "combined_model_path = '/Users/hanmarruiu.edu/Desktop/dls project/combined_resnet_model_mango_tomato.h5'\n",
    "model = load_model(combined_model_path)\n",
    "\n",
    "# Unfreezingh the last 10 layers of the model\n",
    "for layer in model.layers[-30:]:\n",
    "    layer.trainable = True\n",
    "\n",
    "# output of the last convolutional layer\n",
    "x = model.get_layer('conv5_block3_out').output\n",
    "\n",
    "#new trainable layers for the rice dataset\n",
    "x = GlobalAveragePooling2D()(x)\n",
    "x = Dense(128, activation='relu')(x)\n",
    "predictions = Dense(3, activation='softmax')(x)  # 3 classes for rice dataset\n",
    "\n",
    "# model with modified layers\n",
    "modified_model = Model(inputs=model.input, outputs=predictions)\n",
    "\n",
    "# Compiling the new model\n",
    "modified_model.compile(optimizer=Adam(lr=0.0001), loss='sparse_categorical_crossentropy', metrics=['accuracy'])\n",
    "\n",
    "# Data preparation and augmentation for rice dataset\n",
    "data_dir = '/Users/hanmarruiu.edu/Desktop/dls project /rice'\n",
    "labels_dict = {\"Bacterial leaf blight\": 0, \"Brown spot\": 1, \"Leaf smut\": 2}\n",
    "\n",
    "images, labels = [], []\n",
    "for class_name in labels_dict.keys():\n",
    "    class_dir = os.path.join(data_dir, class_name)\n",
    "    for image_name in os.listdir(class_dir):\n",
    "        image_path = os.path.join(class_dir, image_name)\n",
    "        image = Image.open(image_path)\n",
    "        image = image.resize((224, 224))\n",
    "        img_array = np.array(image)\n",
    "        images.append(img_array)\n",
    "        labels.append(labels_dict[class_name])\n",
    "\n",
    "images = np.array(images)\n",
    "labels = np.array(labels)\n",
    "train_images, test_images, train_labels, test_labels = train_test_split(images, labels, test_size=0.25, random_state=0)\n",
    "\n",
    "# Data Augmentationstep\n",
    "augment_datagen = ImageDataGenerator(\n",
    "    rescale=1./255,\n",
    "    rotation_range=20, \n",
    "    width_shift_range=0.2, \n",
    "    height_shift_range=0.2, \n",
    "    shear_range=0.2, \n",
    "    zoom_range=0.2, \n",
    "    horizontal_flip=True, \n",
    "    fill_mode='nearest'\n",
    ")\n",
    "\n",
    "train_images_augmented = augment_datagen.flow(train_images, train_labels, batch_size=32)\n",
    "\n",
    "# Normalizin g the pixel values of test images\n",
    "test_images = test_images / 255.0\n",
    "\n",
    "# Training with augmented data\n",
    "history = modified_model.fit(\n",
    "    train_images_augmented,\n",
    "    epochs=30,\n",
    "    validation_data=(test_images, test_labels)\n",
    ")\n"
   ]
  },
  {
   "cell_type": "code",
   "execution_count": 48,
   "id": "75908248",
   "metadata": {},
   "outputs": [
    {
     "name": "stdout",
     "output_type": "stream",
     "text": [
      "1/1 [==============================] - 1s 1s/step - loss: 6.9377 - accuracy: 0.4667\n",
      "Test accuracy: 0.46666666865348816\n"
     ]
    }
   ],
   "source": [
    "\n",
    "# Evaluating on the test data\n",
    "test_loss, test_accuracy = modified_model.evaluate(test_images, test_labels)\n",
    "print(\"Test accuracy:\", test_accuracy)\n"
   ]
  },
  {
   "cell_type": "code",
   "execution_count": 49,
   "id": "15856976",
   "metadata": {},
   "outputs": [
    {
     "name": "stdout",
     "output_type": "stream",
     "text": [
      "Trained model saved to /Users/hanmarruiu.edu/Desktop/dls project/final_trained_model.h5\n"
     ]
    }
   ],
   "source": [
    "\n",
    "save_dir = '/Users/hanmarruiu.edu/Desktop/dls project'\n",
    "\n",
    "model_file_name = 'final_trained_model.h5'\n",
    "\n",
    "if not os.path.exists(save_dir):\n",
    "    os.makedirs(save_dir)\n",
    "\n",
    "model_save_path = os.path.join(save_dir, model_file_name)\n",
    "modified_model.save(model_save_path)\n",
    "\n",
    "print(f\"Trained model saved to {model_save_path}\")\n"
   ]
  },
  {
   "cell_type": "code",
   "execution_count": 50,
   "id": "88b713c9",
   "metadata": {},
   "outputs": [
    {
     "name": "stdout",
     "output_type": "stream",
     "text": [
      "Weights saved to /Users/hanmarruiu.edu/Desktop/dls project/final_trained_weights.h5\n"
     ]
    }
   ],
   "source": [
    "\n",
    "weights_dir = '/Users/hanmarruiu.edu/Desktop/dls project'\n",
    "\n",
    "weights_file_name = 'final_trained_weights.h5'\n",
    "if not os.path.exists(weights_dir):\n",
    "    os.makedirs(weights_dir)\n",
    "weights_save_path = os.path.join(weights_dir, weights_file_name)\n",
    "modified_model.save_weights(weights_save_path)\n",
    "\n",
    "print(f\"Weights saved to {weights_save_path}\")\n"
   ]
  },
  {
   "cell_type": "code",
   "execution_count": null,
   "id": "caec4ed9",
   "metadata": {},
   "outputs": [],
   "source": []
  },
  {
   "cell_type": "markdown",
   "id": "f000a8d1",
   "metadata": {},
   "source": [
    "Final Model below which is the end of the bottle-neck apporach with weights and model"
   ]
  },
  {
   "cell_type": "code",
   "execution_count": 5,
   "id": "76953e1a",
   "metadata": {},
   "outputs": [
    {
     "name": "stdout",
     "output_type": "stream",
     "text": [
      "Found 17974 images belonging to 21 classes.\n",
      "Found 4491 images belonging to 21 classes.\n",
      "Class Labels: {'Mango  Gall Midge': 0, 'Mango Anthracnose': 1, 'Mango Bacterial Canker': 2, 'Mango Cutting Weevil': 3, 'Mango Die Back': 4, 'Mango Healthy': 5, 'Mango Powdery Mildew': 6, 'Mango Sooty Mould': 7, 'Rice Bacterial leaf blight': 8, 'Rice Brown spot': 9, 'Rice Leaf smut': 10, 'Tomato___Bacterial_spot': 11, 'Tomato___Early_blight': 12, 'Tomato___Late_blight': 13, 'Tomato___Leaf_Mold': 14, 'Tomato___Septoria_leaf_spot': 15, 'Tomato___Spider_mites Two-spotted_spider_mite': 16, 'Tomato___Target_Spot': 17, 'Tomato___Tomato_Yellow_Leaf_Curl_Virus': 18, 'Tomato___Tomato_mosaic_virus': 19, 'Tomato___healthy': 20}\n",
      "Train Dataset Shape: 17974 images, 21 classes\n",
      "Validation Dataset Shape: 4491 images, 21 classes\n"
     ]
    },
    {
     "name": "stderr",
     "output_type": "stream",
     "text": [
      "WARNING:absl:At this time, the v2.11+ optimizer `tf.keras.optimizers.Adam` runs slowly on M1/M2 Macs, please use the legacy Keras optimizer instead, located at `tf.keras.optimizers.legacy.Adam`.\n",
      "WARNING:absl:`lr` is deprecated in Keras optimizer, please use `learning_rate` or use the legacy optimizer, e.g.,tf.keras.optimizers.legacy.Adam.\n",
      "WARNING:absl:There is a known slowdown when using v2.11+ Keras optimizers on M1/M2 Macs. Falling back to the legacy Keras optimizer, i.e., `tf.keras.optimizers.legacy.Adam`.\n"
     ]
    },
    {
     "name": "stdout",
     "output_type": "stream",
     "text": [
      "Epoch 1/5\n",
      "140/140 [==============================] - 3544s 25s/step - loss: 0.3113 - accuracy: 0.9021 - val_loss: 0.6693 - val_accuracy: 0.8172\n",
      "Epoch 2/5\n",
      "140/140 [==============================] - 3405s 24s/step - loss: 0.0895 - accuracy: 0.9713 - val_loss: 0.2946 - val_accuracy: 0.9123\n",
      "Epoch 3/5\n",
      "140/140 [==============================] - 3407s 24s/step - loss: 0.0569 - accuracy: 0.9818 - val_loss: 2.4777 - val_accuracy: 0.7225\n",
      "Epoch 4/5\n",
      "140/140 [==============================] - 3413s 24s/step - loss: 0.0512 - accuracy: 0.9829 - val_loss: 0.8776 - val_accuracy: 0.7888\n",
      "Epoch 5/5\n",
      "140/140 [==============================] - 3392s 24s/step - loss: 0.0434 - accuracy: 0.9853 - val_loss: 0.2676 - val_accuracy: 0.9257\n"
     ]
    }
   ],
   "source": [
    "import os\n",
    "import numpy as np\n",
    "import tensorflow as tf\n",
    "from tensorflow.keras.applications.resnet50 import ResNet50\n",
    "from tensorflow.keras.layers import Dense, GlobalAveragePooling2D, Flatten\n",
    "from tensorflow.keras.models import Model\n",
    "from tensorflow.keras.optimizers import Adam\n",
    "from tensorflow.keras.preprocessing.image import ImageDataGenerator\n",
    "\n",
    "#the dataset path and the number of classes\n",
    "dataset_path = '/Users/hanmarruiu.edu/Desktop/dls project /Combined_dataset'\n",
    "num_classes = 21\n",
    "\n",
    "\n",
    "# ImageDataGenerator with a validation split\n",
    "datagen = ImageDataGenerator(\n",
    "    rescale=1./255,\n",
    "    rotation_range=20, \n",
    "    width_shift_range=0.2, \n",
    "    height_shift_range=0.2, \n",
    "    shear_range=0.2, \n",
    "    zoom_range=0.2, \n",
    "    horizontal_flip=True, \n",
    "    vertical_flip=True,\n",
    "    fill_mode='nearest',\n",
    "    validation_split=0.2  \n",
    ")\n",
    "\n",
    "# the target image size and batch size\n",
    "target_size = (224, 224)\n",
    "batch_size = 128\n",
    "\n",
    "# Loading images \n",
    "train_dataset = datagen.flow_from_directory(\n",
    "    dataset_path,\n",
    "    target_size=target_size,\n",
    "    batch_size=batch_size,\n",
    "    class_mode='categorical',\n",
    "    subset='training',  \n",
    "    shuffle=True\n",
    ")\n",
    "\n",
    "validation_dataset = datagen.flow_from_directory(\n",
    "    dataset_path,\n",
    "    target_size=target_size,\n",
    "    batch_size=batch_size,\n",
    "    class_mode='categorical',\n",
    "    subset='validation', \n",
    "    shuffle=False\n",
    ")\n",
    "\n",
    "# Displaying the class labels and the shape of the datasets\n",
    "class_labels = train_dataset.class_indices\n",
    "print(\"Class Labels:\", class_labels)\n",
    "print(\"Train Dataset Shape:\", train_dataset.samples, \"images,\", len(class_labels), \"classes\")\n",
    "print(\"Validation Dataset Shape:\", validation_dataset.samples, \"images,\", len(class_labels), \"classes\")\n",
    "# Loading the ResNet50 model without weights\n",
    "base_model = ResNet50(weights=None, include_top=False, input_shape=(224, 224, 3))\n",
    "\n",
    "# Loading the previously saved weights from last model above\n",
    "weights_path = '/Users/hanmarruiu.edu/Desktop/dls project/final_trained_weights.h5'\n",
    "base_model.load_weights(weights_path, by_name=True, skip_mismatch=True)\n",
    "\n",
    "#custom layers\n",
    "x = base_model.output\n",
    "x = GlobalAveragePooling2D()(x)\n",
    "x = Flatten()(x)\n",
    "x = Dense(1024, activation='relu')(x)\n",
    "predictions = Dense(num_classes, activation='softmax')(x)\n",
    "\n",
    "#  the final model\n",
    "model = Model(inputs=base_model.input, outputs=predictions)\n",
    "\n",
    "# Compiling the model\n",
    "model.compile(optimizer=Adam(lr=0.0001),\n",
    "              loss='categorical_crossentropy',\n",
    "              metrics=['accuracy'])\n",
    "\n",
    "# Training the model\n",
    "train_steps_per_epoch = train_dataset.samples // batch_size\n",
    "validation_steps_per_epoch = validation_dataset.samples // batch_size\n",
    "\n",
    "history = model.fit(\n",
    "    train_dataset,\n",
    "    steps_per_epoch=train_steps_per_epoch,\n",
    "    epochs=5,\n",
    "    validation_data=validation_dataset,\n",
    "    validation_steps=validation_steps_per_epoch\n",
    ")\n",
    "\n"
   ]
  },
  {
   "cell_type": "code",
   "execution_count": 6,
   "id": "0373ce62",
   "metadata": {},
   "outputs": [
    {
     "name": "stdout",
     "output_type": "stream",
     "text": [
      "36/36 [==============================] - 144s 4s/step - loss: 0.2649 - accuracy: 0.9279\n",
      "Test accuracy: 92.79%\n"
     ]
    }
   ],
   "source": [
    "# Evaluating the model\n",
    "test_loss, test_accuracy = model.evaluate(validation_dataset)\n",
    "print(f\"Test accuracy: {test_accuracy:.2%}\")\n"
   ]
  },
  {
   "cell_type": "code",
   "execution_count": 14,
   "id": "6ffce405",
   "metadata": {},
   "outputs": [
    {
     "data": {
      "image/png": "[encoded data removed]",
      "text/plain": [
       "<Figure size 1200x600 with 2 Axes>"
      ]
     },
     "metadata": {},
     "output_type": "display_data"
    }
   ],
   "source": [
    "import matplotlib.pyplot as plt\n",
    "\n",
    "# Extracting the history from the training run\n",
    "history_dict = history.history\n",
    "\n",
    "# the metrics used \n",
    "train_loss = history_dict['loss']\n",
    "train_accuracy = history_dict['accuracy']\n",
    "val_loss = history_dict['val_loss']\n",
    "val_accuracy = history_dict['val_accuracy']\n",
    "\n",
    "#the range for x-axis (number of epochs)\n",
    "epochs = range(1, len(train_loss) + 1)\n",
    "\n",
    "# Plotting Training and Validation Loss\n",
    "plt.figure(figsize=(12, 6))\n",
    "plt.subplot(1, 2, 1)\n",
    "plt.plot(epochs, train_loss, label='Training Loss')\n",
    "plt.plot(epochs, val_loss, label='Validation Loss')\n",
    "plt.title('Training and Validation Loss')\n",
    "plt.xlabel('Epochs')\n",
    "plt.ylabel('Loss')\n",
    "plt.legend()\n",
    "\n",
    "# Plotting Training and Validation Accuracy\n",
    "plt.subplot(1, 2, 2)\n",
    "plt.plot(epochs, train_accuracy, label='Training Accuracy')\n",
    "plt.plot(epochs, val_accuracy, label='Validation Accuracy')\n",
    "plt.title('Training and Validation Accuracy')\n",
    "plt.xlabel('Epochs')\n",
    "plt.ylabel('Accuracy')\n",
    "plt.legend()\n",
    "\n",
    "plt.tight_layout()\n",
    "plt.show()\n"
   ]
  },
  {
   "cell_type": "code",
   "execution_count": 7,
   "id": "c7bc2747",
   "metadata": {},
   "outputs": [
    {
     "name": "stderr",
     "output_type": "stream",
     "text": [
      "/Users/hanmarruiu.edu/anaconda3/lib/python3.11/site-packages/keras/src/engine/training.py:3000: UserWarning: You are saving your model as an HDF5 file via `model.save()`. This file format is considered legacy. We recommend using instead the native Keras format, e.g. `model.save('my_model.keras')`.\n",
      "  saving_api.save_model(\n"
     ]
    },
    {
     "name": "stdout",
     "output_type": "stream",
     "text": [
      "Model saved to /Users/hanmarruiu.edu/Desktop/dls project/resnet50_trained_model.h5\n"
     ]
    }
   ],
   "source": [
    "\n",
    "model_save_path = '/Users/hanmarruiu.edu/Desktop/dls project/resnet50_trained_model.h5'\n",
    "\n",
    "model.save(model_save_path)\n",
    "\n",
    "print(f\"Model saved to {model_save_path}\")\n"
   ]
  },
  {
   "cell_type": "markdown",
   "id": "f3d3ac3a",
   "metadata": {},
   "source": [
    "prediction with low-resolution and random images."
   ]
  },
  {
   "cell_type": "code",
   "execution_count": 13,
   "id": "b746d4b0",
   "metadata": {},
   "outputs": [
    {
     "name": "stdout",
     "output_type": "stream",
     "text": [
      "Found 22465 images belonging to 21 classes.\n",
      "1/1 [==============================] - 0s 349ms/step\n",
      "The image is predicted as: Rice Leaf smut with confidence 0.99\n"
     ]
    }
   ],
   "source": [
    "import numpy as np\n",
    "from tensorflow.keras.models import load_model\n",
    "from tensorflow.keras.preprocessing import image\n",
    "from tensorflow.keras.preprocessing.image import ImageDataGenerator\n",
    "\n",
    "# Loading the previously saved model\n",
    "saved_model_path = '/Users/hanmarruiu.edu/Desktop/dls project/resnet50_trained_model.h5'\n",
    "model = load_model(saved_model_path)\n",
    "\n",
    "# preprocessing the input image\n",
    "def preprocess_input_image(image_path, target_size):\n",
    "    img = image.load_img(image_path, target_size=target_size)\n",
    "    img_array = image.img_to_array(img)\n",
    "    img_array = np.expand_dims(img_array, axis=0)  \n",
    "    img_array /= 255.0  \n",
    "    return img_array\n",
    "\n",
    "# class labels from the training dataset\n",
    "def get_class_labels(dataset_path):\n",
    "    datagen_tmp = ImageDataGenerator()\n",
    "    generator_tmp = datagen_tmp.flow_from_directory(\n",
    "        dataset_path,\n",
    "        target_size=(224, 224),\n",
    "        batch_size=1,\n",
    "        class_mode='categorical',\n",
    "        shuffle=False)\n",
    "    return {v: k for k, v in generator_tmp.class_indices.items()}\n",
    "\n",
    "#dataset\n",
    "dataset_path = '/Users/hanmarruiu.edu/Desktop/dls project /Combined_dataset'\n",
    "\n",
    "# Retrieving the class labels\n",
    "class_labels = get_class_labels(dataset_path)\n",
    "\n",
    "#makeing predictions on an image\n",
    "def predict_image(model, image_path, class_labels):\n",
    "    img_array = preprocess_input_image(image_path, target_size=(224, 224))\n",
    "    predictions = model.predict(img_array)\n",
    "    predicted_class = class_labels[np.argmax(predictions)]\n",
    "    return predicted_class, np.max(predictions)\n",
    "\n",
    "# path to the image\n",
    "image_path_to_predict = '/Users/hanmarruiu.edu/Desktop/DSC_0504.jpg'\n",
    "\n",
    "# Makeing prediction\n",
    "predicted_class, confidence = predict_image(model, image_path_to_predict, class_labels)\n",
    "\n",
    "#the prediction\n",
    "print(f\"The image is predicted as: {predicted_class} with confidence {confidence:.2f}\")\n"
   ]
  },
  {
   "cell_type": "code",
   "execution_count": null,
   "id": "a8412f5a",
   "metadata": {},
   "outputs": [],
   "source": []
  },
  {
   "cell_type": "code",
   "execution_count": null,
   "id": "505137cc",
   "metadata": {},
   "outputs": [],
   "source": []
  },
  {
   "cell_type": "code",
   "execution_count": null,
   "id": "642122a9",
   "metadata": {},
   "outputs": [],
   "source": []
  },
  {
   "cell_type": "code",
   "execution_count": null,
   "id": "f97f1a42",
   "metadata": {},
   "outputs": [],
   "source": []
  }
 ],
 "metadata": {
  "kernelspec": {
   "display_name": "Python 3 (ipykernel)",
   "language": "python",
   "name": "python3"
  },
  "language_info": {
   "codemirror_mode": {
    "name": "ipython",
    "version": 3
   },
   "file_extension": ".py",
   "mimetype": "text/x-python",
   "name": "python",
   "nbconvert_exporter": "python",
   "pygments_lexer": "ipython3",
   "version": "3.11.5"
  }
 },
 "nbformat": 4,
 "nbformat_minor": 5
}
